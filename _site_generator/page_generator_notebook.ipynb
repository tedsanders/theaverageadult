{
 "metadata": {
  "language_info": {
   "codemirror_mode": {
    "name": "ipython",
    "version": 3
   },
   "file_extension": ".py",
   "mimetype": "text/x-python",
   "name": "python",
   "nbconvert_exporter": "python",
   "pygments_lexer": "ipython3",
   "version": "3.9.1-final"
  },
  "orig_nbformat": 2,
  "kernelspec": {
   "name": "python3",
   "display_name": "Python 3.9.1 64-bit",
   "metadata": {
    "interpreter": {
     "hash": "ac38f12a7050c0e4c45e970deee18ddce29c153571c006b6348cb061b04b8622"
    }
   }
  }
 },
 "nbformat": 4,
 "nbformat_minor": 2,
 "cells": [
  {
   "cell_type": "code",
   "execution_count": 1,
   "metadata": {},
   "outputs": [
    {
     "output_type": "stream",
     "name": "stdout",
     "text": [
      "214 pages created:\n['consumes-how-many-pounds-of-grapes-per-lifetime.html', 'consumes-how-many-pounds-of-grapes-per-year.html', 'consumes-how-many-pounds-of-grapes-per-month.html', 'drinks-how-many-pounds-of-wine-grapes-per-lifetime.html', 'drinks-how-many-pounds-of-wine-grapes-per-year.html', 'eats-how-many-pounds-of-table-grapes-per-lifetime.html', 'eats-how-many-pounds-of-table-grapes-per-year.html', 'eats-how-many-pounds-of-dried-grapes-per-lifetime.html', 'eats-how-many-pounds-of-dried-grapes-per-year.html', 'owns-how-many-square-meters-of-vineyards-per-lifetime.html', 'owns-how-many-square-meters-of-vineyards-per-year.html', 'produces-how-many-dollars-worth-of-stuff-per-lifetime.html', 'produces-how-many-dollars-worth-of-stuff-per-year.html', 'produces-how-many-dollars-worth-of-stuff-per-month.html', 'produces-how-many-dollars-worth-of-stuff-per-week.html', 'produces-how-many-dollars-worth-of-stuff-per-day.html', 'produces-how-many-dollars-worth-of-stuff-per-hour.html', 'produces-how-many-international-dollars-worth-of-stuff-per-lifetime.html', 'produces-how-many-international-dollars-worth-of-stuff-per-year.html', 'produces-how-many-international-dollars-worth-of-stuff-per-month.html', 'produces-how-many-international-dollars-worth-of-stuff-per-week.html', 'produces-how-many-international-dollars-worth-of-stuff-per-day.html', 'produces-how-many-international-dollars-worth-of-stuff-per-hour.html', 'lives-for-how-many-years.html', 'owns-how-many-grams-of-gold.html', 'owns-how-many-milliliters-of-gold.html', 'has-how-many-square-meters-of-Earths-surface.html', 'has-how-many-square-meters-of-ocean.html', 'has-how-many-square-meters-of-land.html', 'has-how-many-square-meters-of-habitable-land.html', 'has-how-many-square-meters-of-uninhabitable-land.html', 'has-how-many-square-meters-of-barren-land.html', 'has-how-many-square-meters-of-glaciers.html', 'has-how-many-square-meters-of-agricultural-land.html', 'has-how-many-square-meters-of-forested-land.html', 'has-how-many-square-meters-of-shrub-land.html', 'has-how-many-square-meters-of-urban-and-builtup-land.html', 'has-how-many-square-meters-of-freshwater.html', 'has-how-many-square-meters-of-livestock-land.html', 'has-how-many-square-meters-of-cropland.html', 'farms-how-many-square-meters-of-cereals-total-cropland.html', 'farms-how-many-square-meters-of-oilcrops-oil-equivalent-cropland.html', 'farms-how-many-square-meters-of-oilcrops-cropland.html', 'farms-how-many-square-meters-of-oilcrops-cake-equivalent-cropland.html', 'farms-how-many-square-meters-of-wheat-cropland.html', 'farms-how-many-square-meters-of-maize-cropland.html', 'farms-how-many-square-meters-of-rice-paddy-cropland.html', 'farms-how-many-square-meters-of-soybeans-cropland.html', 'farms-how-many-square-meters-of-pulses-total-cropland.html', 'farms-how-many-square-meters-of-fruit-primary-cropland.html', 'farms-how-many-square-meters-of-roots-and-tubers-total-cropland.html', 'farms-how-many-square-meters-of-vegetables-primary-cropland.html', 'farms-how-many-square-meters-of-barley-cropland.html', 'farms-how-many-square-meters-of-fibre-crops-primary-cropland.html', 'farms-how-many-square-meters-of-sorghum-cropland.html', 'farms-how-many-square-meters-of-seed-cotton-cropland.html', 'farms-how-many-square-meters-of-rapeseed-cropland.html', 'farms-how-many-square-meters-of-beans-dry-cropland.html', 'farms-how-many-square-meters-of-millet-cropland.html', 'farms-how-many-square-meters-of-sugar-crops-primary-cropland.html', 'farms-how-many-square-meters-of-groundnuts-with-shell-cropland.html', 'farms-how-many-square-meters-of-oil-palm-fruit-cropland.html', 'farms-how-many-square-meters-of-cassava-cropland.html', 'farms-how-many-square-meters-of-sunflower-seed-cropland.html', 'farms-how-many-square-meters-of-sugar-cane-cropland.html', 'farms-how-many-square-meters-of-vegetables-fresh-nes-cropland.html', 'farms-how-many-square-meters-of-potatoes-cropland.html', 'farms-how-many-square-meters-of-cow-peas-dry-cropland.html', 'farms-how-many-square-meters-of-treenuts-total-cropland.html', 'farms-how-many-square-meters-of-chick-peas-cropland.html', 'farms-how-many-square-meters-of-sesame-seed-cropland.html', 'farms-how-many-square-meters-of-rubber-natural-cropland.html', 'farms-how-many-square-meters-of-cocoa-beans-cropland.html', 'farms-how-many-square-meters-of-coconuts-cropland.html', 'farms-how-many-square-meters-of-coffee-green-cropland.html', 'farms-how-many-square-meters-of-olives-cropland.html', 'farms-how-many-square-meters-of-citrus-fruit-total-cropland.html', 'farms-how-many-square-meters-of-oats-cropland.html', 'farms-how-many-square-meters-of-yams-cropland.html', 'farms-how-many-square-meters-of-sweet-potatoes-cropland.html', 'farms-how-many-square-meters-of-peas-dry-cropland.html', 'farms-how-many-square-meters-of-cashew-nuts-with-shell-cropland.html', 'farms-how-many-square-meters-of-grapes-cropland.html', 'farms-how-many-square-meters-of-pulses-nes-cropland.html', 'farms-how-many-square-meters-of-fruit-fresh-nes-cropland.html', 'farms-how-many-square-meters-of-plantains-and-others-cropland.html', 'farms-how-many-square-meters-of-pigeon-peas-cropland.html', 'farms-how-many-square-meters-of-mangoes-mangosteens-guavas-cropland.html', 'farms-how-many-square-meters-of-onions-dry-cropland.html', 'farms-how-many-square-meters-of-bananas-cropland.html', 'farms-how-many-square-meters-of-tea-cropland.html', 'farms-how-many-square-meters-of-tomatoes-cropland.html', 'farms-how-many-square-meters-of-lentils-cropland.html', 'farms-how-many-square-meters-of-apples-cropland.html', 'farms-how-many-square-meters-of-sugar-beet-cropland.html', 'farms-how-many-square-meters-of-cereals-nes-cropland.html', 'farms-how-many-square-meters-of-rye-cropland.html', 'farms-how-many-square-meters-of-oranges-cropland.html', 'farms-how-many-square-meters-of-triticale-cropland.html', 'farms-how-many-square-meters-of-tobacco-unmanufactured-cropland.html', 'farms-how-many-square-meters-of-fruit-tropical-fresh-nes-cropland.html', 'farms-how-many-square-meters-of-linseed-cropland.html', 'farms-how-many-square-meters-of-watermelons-cropland.html', 'farms-how-many-square-meters-of-peas-green-cropland.html', 'farms-how-many-square-meters-of-tangerines-mandarins-clementines-satsumas-cropland.html', 'farms-how-many-square-meters-of-okra-cropland.html', 'farms-how-many-square-meters-of-plums-and-sloes-cropland.html', 'farms-how-many-square-meters-of-broad-beans-horse-beans-dry-cropland.html', 'farms-how-many-square-meters-of-cabbages-and-other-brassicas-cropland.html', 'farms-how-many-square-meters-of-cucumbers-and-gherkins-cropland.html', 'farms-how-many-square-meters-of-almonds-with-shell-cropland.html', 'farms-how-many-square-meters-of-anise-badian-fennel-coriander-cropland.html', 'farms-how-many-square-meters-of-chillies-and-peppers-green-cropland.html', 'farms-how-many-square-meters-of-taro-cocoyam-cropland.html', 'farms-how-many-square-meters-of-melonseed-cropland.html', 'farms-how-many-square-meters-of-eggplants-aubergines-cropland.html', 'farms-how-many-square-meters-of-oilseeds-nes-cropland.html', 'farms-how-many-square-meters-of-chillies-and-peppers-dry-cropland.html', 'farms-how-many-square-meters-of-buckwheat-cropland.html', 'farms-how-many-square-meters-of-beans-green-cropland.html', 'farms-how-many-square-meters-of-garlic-cropland.html', 'farms-how-many-square-meters-of-asparagus-cropland.html', 'farms-how-many-square-meters-of-pumpkins-squash-and-gourds-cropland.html', 'farms-how-many-square-meters-of-peaches-and-nectarines-cropland.html', 'farms-how-many-square-meters-of-fruit-citrus-nes-cropland.html', 'farms-how-many-square-meters-of-jute-cropland.html', 'farms-how-many-square-meters-of-cauliflowers-and-broccoli-cropland.html', 'farms-how-many-square-meters-of-dates-cropland.html', 'farms-how-many-square-meters-of-pears-cropland.html', 'farms-how-many-square-meters-of-spices-nes-cropland.html', 'farms-how-many-square-meters-of-lettuce-and-chicory-cropland.html', 'farms-how-many-square-meters-of-walnuts-with-shell-cropland.html', 'farms-how-many-square-meters-of-areca-nuts-cropland.html', 'farms-how-many-square-meters-of-grain-mixed-cropland.html', 'farms-how-many-square-meters-of-lemons-and-limes-cropland.html', 'farms-how-many-square-meters-of-castor-oil-seed-cropland.html', 'farms-how-many-square-meters-of-carrots-and-turnips-cropland.html', 'farms-how-many-square-meters-of-pineapples-cropland.html', 'farms-how-many-square-meters-of-melons-other-inccantaloupes-cropland.html', 'farms-how-many-square-meters-of-pistachios-cropland.html', 'farms-how-many-square-meters-of-maize-green-cropland.html', 'farms-how-many-square-meters-of-hazelnuts-with-shell-cropland.html', 'farms-how-many-square-meters-of-persimmons-cropland.html', 'farms-how-many-square-meters-of-spinach-cropland.html', 'farms-how-many-square-meters-of-fonio-cropland.html', 'farms-how-many-square-meters-of-lupins-cropland.html', 'farms-how-many-square-meters-of-mustard-seed-cropland.html', 'farms-how-many-square-meters-of-nuts-nes-cropland.html', 'farms-how-many-square-meters-of-karite-nuts-sheanuts-cropland.html', 'farms-how-many-square-meters-of-roots-and-tubers-nes-cropland.html', 'farms-how-many-square-meters-of-pepper-piper-spp-cropland.html', 'farms-how-many-square-meters-of-avocados-cropland.html', 'farms-how-many-square-meters-of-cloves-cropland.html', 'farms-how-many-square-meters-of-safflower-seed-cropland.html', 'farms-how-many-square-meters-of-kola-nuts-cropland.html', 'farms-how-many-square-meters-of-chestnut-cropland.html', 'farms-how-many-square-meters-of-apricots-cropland.html', 'farms-how-many-square-meters-of-cashewapple-cropland.html', 'farms-how-many-square-meters-of-papayas-cropland.html', 'farms-how-many-square-meters-of-nutmeg-mace-and-cardamoms-cropland.html', 'farms-how-many-square-meters-of-cherries-cropland.html', 'farms-how-many-square-meters-of-tallowtree-seed-cropland.html', 'farms-how-many-square-meters-of-vetches-cropland.html', 'farms-how-many-square-meters-of-strawberries-cropland.html', 'farms-how-many-square-meters-of-fibre-crops-nes-cropland.html', 'farms-how-many-square-meters-of-ginger-cropland.html', 'farms-how-many-square-meters-of-bambara-beans-cropland.html', 'farms-how-many-square-meters-of-grapefruit-inc-pomelos-cropland.html', 'farms-how-many-square-meters-of-cinnamon-cannella-cropland.html', 'farms-how-many-square-meters-of-figs-cropland.html', 'farms-how-many-square-meters-of-kiwi-fruit-cropland.html', 'farms-how-many-square-meters-of-matÃ©-cropland.html', 'farms-how-many-square-meters-of-flax-fibre-and-tow-cropland.html', 'farms-how-many-square-meters-of-vegetables-leguminous-nes-cropland.html', 'farms-how-many-square-meters-of-cassava-leaves-cropland.html', 'farms-how-many-square-meters-of-sisal-cropland.html', 'farms-how-many-square-meters-of-canary-seed-cropland.html', 'farms-how-many-square-meters-of-cherries-sour-cropland.html', 'farms-how-many-square-meters-of-onions-shallots-green-cropland.html', 'farms-how-many-square-meters-of-kapok-fruit-cropland.html', 'farms-how-many-square-meters-of-quinoa-cropland.html', 'farms-how-many-square-meters-of-manila-fibre-abaca-cropland.html', 'farms-how-many-square-meters-of-string-beans-cropland.html', 'farms-how-many-square-meters-of-currants-cropland.html', 'farms-how-many-square-meters-of-bastfibres-other-cropland.html', 'farms-how-many-square-meters-of-leeks-other-alliaceous-vegetables-cropland.html', 'farms-how-many-square-meters-of-berries-nes-cropland.html', 'farms-how-many-square-meters-of-raspberries-cropland.html', 'farms-how-many-square-meters-of-tung-nuts-cropland.html', 'farms-how-many-square-meters-of-artichokes-cropland.html', 'farms-how-many-square-meters-of-blueberries-cropland.html', 'farms-how-many-square-meters-of-sugar-crops-nes-cropland.html', 'farms-how-many-square-meters-of-mushrooms-and-truffles-cropland.html', 'farms-how-many-square-meters-of-vanilla-cropland.html', 'farms-how-many-square-meters-of-hops-cropland.html', 'farms-how-many-square-meters-of-quinces-cropland.html', 'farms-how-many-square-meters-of-fruit-stone-nes-cropland.html', 'farms-how-many-square-meters-of-hemp-tow-waste-cropland.html', 'farms-how-many-square-meters-of-agave-fibres-nes-cropland.html', 'farms-how-many-square-meters-of-poppy-seed-cropland.html', 'farms-how-many-square-meters-of-cranberries-cropland.html', 'farms-how-many-square-meters-of-yautia-cocoyam-cropland.html', 'farms-how-many-square-meters-of-ramie-cropland.html', 'farms-how-many-square-meters-of-pyrethrum-dried-cropland.html', 'farms-how-many-square-meters-of-hempseed-cropland.html', 'farms-how-many-square-meters-of-fruit-pome-nes-cropland.html', 'farms-how-many-square-meters-of-gooseberries-cropland.html', 'farms-how-many-square-meters-of-carobs-cropland.html', 'farms-how-many-square-meters-of-brazil-nuts-with-shell-cropland.html', 'farms-how-many-square-meters-of-peppermint-cropland.html', 'farms-how-many-square-meters-of-chicory-roots-cropland.html', 'farms-how-many-square-meters-of-jojoba-seed-cropland.html', 'farms-how-many-square-meters-of-coir-cropland.html']\n"
     ]
    }
   ],
   "source": [
    "data_filepath = 'the average human being - data.csv'\n",
    "\n",
    "from build_fact_page import fact_page_fact, fact_page_html, fact_page_url\n",
    "import csv\n",
    "\n",
    "with open(data_filepath, 'r') as data_file:\n",
    "    # read csv, load all rows\n",
    "    reader = csv.DictReader(data_file, delimiter=',')\n",
    "\n",
    "    # unpack multiple pages for multiple units\n",
    "    fact_dicts = []\n",
    "    for row_dict in reader:\n",
    "        if row_dict['per capita'] and not row_dict['time unit']:\n",
    "            fact_dicts.append(row_dict)\n",
    "        if row_dict['time unit'] and not row_dict['per capita']:\n",
    "            for time_unit in ['per lifetime', 'per year', 'per month', 'per week', 'per day', 'per hour', 'per minute', 'per second']:\n",
    "                if row_dict[time_unit][0:2] != '0.':\n",
    "                    r = row_dict.copy()\n",
    "                    r['time unit'] = time_unit\n",
    "                    r['per capita'] = r[time_unit]\n",
    "                    fact_dicts.append(r)\n",
    "\n",
    "    # create urls and insert list of urls into fact dicts\n",
    "    for fact_dict in fact_dicts:\n",
    "        fact_dict['url'] = fact_page_url(fact_dict)\n",
    "    url_list = [fact_dict['url'] for fact_dict in fact_dicts]\n",
    "    for fact_dict in fact_dicts:\n",
    "        url_list_without_self = [url.removesuffix('.html') for url in url_list if url.split('-')[0] != fact_dict['verb']]\n",
    "        fact_dict['url_list'] = url_list_without_self\n",
    "\n",
    "    # create facts\n",
    "    for fact_dict in fact_dicts:\n",
    "        fact_dict['fact'] = fact_page_fact(fact_dict)\n",
    "    \n",
    "    # clean apostrophes in fact, source, and note\n",
    "    for fact_dict in fact_dicts:\n",
    "        for key in ['fact', 'source', 'note']:\n",
    "            fact_dict[key] = fact_dict[key].replace(\"'\", \"&#8217;\")\n",
    "\n",
    "    # create start page\n",
    "    with open('../index.html', 'w') as start_page:\n",
    "        start_page.write(fact_page_html(url='index.html', url_list=url_list, start_page=True))\n",
    "\n",
    "    # create pages\n",
    "    for fact_dict in fact_dicts:\n",
    "        with open('../' + fact_dict['url'], 'w') as fact_page:\n",
    "            fact_page.write(fact_page_html(**fact_dict))\n",
    "print(f'{1+len(fact_dicts)} pages created:')\n",
    "print(url_list)"
   ]
  },
  {
   "cell_type": "code",
   "execution_count": null,
   "metadata": {},
   "outputs": [],
   "source": []
  }
 ]
}