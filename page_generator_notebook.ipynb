{
 "metadata": {
  "language_info": {
   "codemirror_mode": {
    "name": "ipython",
    "version": 3
   },
   "file_extension": ".py",
   "mimetype": "text/x-python",
   "name": "python",
   "nbconvert_exporter": "python",
   "pygments_lexer": "ipython3",
   "version": "3.9.1-final"
  },
  "orig_nbformat": 2,
  "kernelspec": {
   "name": "python3",
   "display_name": "Python 3.9.1 64-bit",
   "metadata": {
    "interpreter": {
     "hash": "ac38f12a7050c0e4c45e970deee18ddce29c153571c006b6348cb061b04b8622"
    }
   }
  }
 },
 "nbformat": 4,
 "nbformat_minor": 2,
 "cells": [
  {
   "cell_type": "code",
   "execution_count": 1,
   "metadata": {},
   "outputs": [],
   "source": [
    "def fact_page_html(url='', fact='', source='', note='', **kwargs):\n",
    "    # check that inputs are strings\n",
    "    if not isinstance(url, str):\n",
    "        raise TypeError('url needs to be a string')\n",
    "    if not isinstance(fact, str):\n",
    "        raise TypeError('fact needs to be a string')\n",
    "    if not isinstance(source, str):\n",
    "        raise TypeError('source needs to be a string')\n",
    "    if not isinstance(note, str):\n",
    "        raise TypeError('note needs to be a string')\n",
    "\n",
    "    # check that url and fact are present\n",
    "    if not url:\n",
    "        raise ValueError('url is required')\n",
    "    if not fact:\n",
    "        raise ValueError('fact is required')\n",
    "\n",
    "    # compute intermediate html chunks\n",
    "    if source:\n",
    "        source_html = f'<div><h2>Source:</h2><span> {source}</span></div>'\n",
    "    else:\n",
    "        source_html = ''\n",
    "\n",
    "    if note:\n",
    "        note_html = f'<div><h2>Note:</h2><span> {note}</span></div>'\n",
    "    else:\n",
    "        note_html = ''\n",
    "\n",
    "    title = f'The average human being {fact}'\n",
    "\n",
    "    # load template\n",
    "    with open('fact_page_template.html', 'r') as fact_page_template_file:\n",
    "        fact_page_template_string = fact_page_template_file.read()\n",
    "\n",
    "    # return completed template\n",
    "    return fact_page_template_string.format(url=url, fact=fact, title=title, source_html=source_html, note_html=note_html)"
   ]
  },
  {
   "cell_type": "code",
   "execution_count": 2,
   "metadata": {},
   "outputs": [
    {
     "output_type": "stream",
     "name": "stdout",
     "text": [
      "<!doctype html>\n<html class=\"no-js\" lang=\"\">\n\n<head>\n<meta charset=\"utf-8\">\n<title>The average human being eats 8 spiders per year</title>\n<meta name=\"description\" content=\"description\">\n<meta name=\"viewport\" content=\"width=device-width, initial-scale=1\">\n\n<meta property=\"og:title\" content=\"The average human being eats 8 spiders per year\">\n<meta property=\"og:type\" content=\"website\">\n<meta property=\"og:url\" content=\"test.html\">\n<meta property=\"og:image\" content=\"\">\n\n<link rel=\"manifest\" href=\"site.webmanifest\">\n<link rel=\"apple-touch-icon\" href=\"icon.png\">\n\n<meta name=\"theme-color\" content=\"#fff8e7\">\n<link rel=\"stylesheet\" href=\"https://fonts.googleapis.com/css?family=Average\">\n<style>\n    #container, h1, h2, p, span, a, button, footer, #filler {\n    margin: 0 auto;\n    }\n    html {\n    height: -webkit-fill-available;\n    }\n    body {\n    background-color:#fff8e7;\n    font-family: 'Average', serif;\n    color: #4b2603;\n    line-height: 1.5;\n    margin: 0;\n    }\n    #container {\n    min-height: 100vh;\n    min-height: -webkit-fill-available;\n    max-width: 20rem;\n    display: flex;\n    flex-direction: column;\n    padding: 0 0.5rem;\n    }\n    h1 {\n    font-size: 1.5rem;\n    font-weight: normal;\n    }\n    h2 {\n    display: inline;\n    font-size: 1rem;\n    font-weight: bold;\n    }\n    p {\n    margin-top: 1rem;\n    }\n    button {\n    margin-top: 2rem;\n    margin-bottom: 2rem;\n    background-color: #C47EE4;\n    color: #fff;\n    font-size: 1.5rem;\n    border:none;\n    border-radius: 0.5rem;\n    padding: 0.5rem 1rem;\n    box-shadow: 0px 8px 15px #333;\n    transition: all 0.3s ease 0s;\n    cursor: pointer;\n    outline: none;\n    }\n    button:hover {\n    background-color: #2EE59D;\n    box-shadow: 0px 15px 20px rgba(46, 229, 157, 0.4);\n\n    transform: translateY(-7px);\n    }\n    footer {\n    margin-top:auto;\n    padding: 1rem;\n    }\n</style>\n</head>\n\n<body>\n<div id='container'>\n<h1>\n<p style='font-weight:bold;'>The average human being...</p>\n<p>...eats 8 spiders per year.</p>\n</h1>\n\n<button>new fact</button>\n\n\n\n<div><h2>Note:</h2><span> (roughly)</span></div>\n\n<footer>\n<a href=\"\">About this website</a>\n</footer>\n</div>\n</body>\n\n</html>\n"
     ]
    }
   ],
   "source": [
    "print(fact_page_html(url='test.html', fact='eats 8 spiders per year', note='(roughly)'))"
   ]
  },
  {
   "cell_type": "code",
   "execution_count": 5,
   "metadata": {},
   "outputs": [
    {
     "output_type": "stream",
     "name": "stdout",
     "text": [
      "2 pages created!\n"
     ]
    }
   ],
   "source": [
    "import csv\n",
    "page_count = 0\n",
    "with open('the average human being - data.csv', 'r') as data_file:\n",
    "    reader = csv.reader(data_file, delimiter=',')\n",
    "    column_names = next(reader)\n",
    "    for row_values in reader:\n",
    "        fact_dict = {key: value for key, value in zip(column_names, row_values)}\n",
    "        page_url = fact_dict['url'] + '.html'\n",
    "        with open(page_url, 'w') as fact_page:\n",
    "            fact_page.write(fact_page_html(**fact_dict))\n",
    "        page_count += 1\n",
    "print(f'{page_count} pages created!')"
   ]
  },
  {
   "cell_type": "code",
   "execution_count": null,
   "metadata": {},
   "outputs": [],
   "source": []
  }
 ]
}